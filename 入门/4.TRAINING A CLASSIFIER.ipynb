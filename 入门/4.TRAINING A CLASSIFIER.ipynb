{
 "cells": [
  {
   "cell_type": "code",
   "execution_count": 1,
   "metadata": {},
   "outputs": [],
   "source": [
    "import torch\n",
    "import torch.nn as nn\n",
    "import torch.nn.functional as F\n",
    "import torch.optim as optim\n",
    "import torchvision\n",
    "import torchvision.transforms as transforms\n",
    "import numpy as np\n",
    "from matplotlib import pylab as plt"
   ]
  },
  {
   "cell_type": "code",
   "execution_count": 2,
   "metadata": {},
   "outputs": [],
   "source": [
    "transform = transforms.Compose([\n",
    "    transforms.ToTensor(),\n",
    "    transforms.Normalize([0.5, 0.5, 0.5], [0.5, 0.5, 0.5])\n",
    "])"
   ]
  },
  {
   "cell_type": "code",
   "execution_count": 3,
   "metadata": {},
   "outputs": [
    {
     "name": "stdout",
     "output_type": "stream",
     "text": [
      "Files already downloaded and verified\n",
      "Files already downloaded and verified\n"
     ]
    }
   ],
   "source": [
    "trainset = torchvision.datasets.CIFAR10('../data', train=True, transform=transform, download=True)\n",
    "testset = torchvision.datasets.CIFAR10('../data', train=False, transform=transform, download=True)"
   ]
  },
  {
   "cell_type": "code",
   "execution_count": 4,
   "metadata": {},
   "outputs": [
    {
     "data": {
      "text/plain": [
       "50000"
      ]
     },
     "execution_count": 4,
     "metadata": {},
     "output_type": "execute_result"
    }
   ],
   "source": [
    "len(trainset)"
   ]
  },
  {
   "cell_type": "code",
   "execution_count": 5,
   "metadata": {},
   "outputs": [],
   "source": [
    "trainloader = torch.utils.data.DataLoader(trainset, batch_size=4, shuffle=True, num_workers=2)\n",
    "testloader = torch.utils.data.DataLoader(testset, batch_size=4, shuffle=False, num_workers=2)"
   ]
  },
  {
   "cell_type": "code",
   "execution_count": 6,
   "metadata": {},
   "outputs": [],
   "source": [
    "def showImg(img):\n",
    "    img = img * 0.5 + 0.5\n",
    "    img = img.numpy()\n",
    "    img = np.transpose(img, (1, 2, 0))\n",
    "    plt.imshow(img)"
   ]
  },
  {
   "cell_type": "code",
   "execution_count": 7,
   "metadata": {},
   "outputs": [],
   "source": [
    "trainIter = iter(trainloader)\n",
    "imgs, labels = next(trainIter)"
   ]
  },
  {
   "cell_type": "code",
   "execution_count": 8,
   "metadata": {},
   "outputs": [
    {
     "name": "stdout",
     "output_type": "stream",
     "text": [
      "truck,cat,deer,automobile\n"
     ]
    },
    {
     "data": {
      "image/png": "[encoded data removed]",
      "text/plain": [
       "<Figure size 432x288 with 1 Axes>"
      ]
     },
     "metadata": {
      "needs_background": "light"
     },
     "output_type": "display_data"
    }
   ],
   "source": [
    "print(','.join([trainset.classes[label] for label in labels]))\n",
    "showImg(torchvision.utils.make_grid(imgs))"
   ]
  },
  {
   "cell_type": "code",
   "execution_count": 9,
   "metadata": {},
   "outputs": [
    {
     "data": {
      "text/plain": [
       "torch.Size([3, 32, 32])"
      ]
     },
     "execution_count": 9,
     "metadata": {},
     "output_type": "execute_result"
    }
   ],
   "source": [
    "imgs[0].size()"
   ]
  },
  {
   "cell_type": "code",
   "execution_count": 10,
   "metadata": {},
   "outputs": [],
   "source": [
    "class Net(nn.Module):\n",
    "    def __init__(self):\n",
    "        super().__init__()\n",
    "        self.conv1 = nn.Conv2d(3, 8, 3, padding=1)\n",
    "        self.conv2 = nn.Conv2d(8, 16, 3, padding=1)\n",
    "        self.flatten = nn.Flatten()\n",
    "        self.fc3 = nn.Linear(16 * 8 * 8, 10)\n",
    "        \n",
    "    def forward(self, x):\n",
    "        x = self.conv1(x)\n",
    "        x = F.relu(x)\n",
    "        x = F.max_pool2d(x, 2, 2)\n",
    "        x = self.conv2(x)\n",
    "        x = F.relu(x)\n",
    "        x = F.max_pool2d(x, 2, 2)\n",
    "        x = self.flatten(x)\n",
    "        x = self.fc3(x)\n",
    "        return x"
   ]
  },
  {
   "cell_type": "code",
   "execution_count": 11,
   "metadata": {},
   "outputs": [],
   "source": [
    "net = Net()"
   ]
  },
  {
   "cell_type": "code",
   "execution_count": 12,
   "metadata": {},
   "outputs": [],
   "source": [
    "criterion = nn.CrossEntropyLoss()\n",
    "optimizer = optim.SGD(net.parameters(), lr=0.001, momentum=0.9)"
   ]
  },
  {
   "cell_type": "code",
   "execution_count": 13,
   "metadata": {},
   "outputs": [
    {
     "name": "stdout",
     "output_type": "stream",
     "text": [
      "epoch: 1 -- step: 1000 -- loss:  2.2614\n",
      "epoch: 1 -- step: 2000 -- loss:  2.0765\n",
      "epoch: 1 -- step: 3000 -- loss:  1.2996\n",
      "epoch: 1 -- step: 4000 -- loss:  1.2604\n",
      "epoch: 1 -- step: 5000 -- loss:  1.0762\n",
      "epoch: 1 -- step: 6000 -- loss:  0.4273\n",
      "epoch: 1 -- step: 7000 -- loss:  1.7161\n",
      "epoch: 1 -- step: 8000 -- loss:  1.1844\n",
      "epoch: 1 -- step: 9000 -- loss:  1.3384\n",
      "epoch: 1 -- step: 10000 -- loss:  0.8565\n",
      "epoch: 1 -- step: 11000 -- loss:  1.4360\n",
      "epoch: 1 -- step: 12000 -- loss:  2.9640\n"
     ]
    }
   ],
   "source": [
    "history_loss = []\n",
    "\n",
    "for epoch in range(1):\n",
    "    for step, data in enumerate(trainloader):\n",
    "        imgs, labels = data\n",
    "        outputs = net(imgs)\n",
    "        loss = criterion(outputs, labels)\n",
    "        optimizer.zero_grad()\n",
    "        loss.backward()\n",
    "        optimizer.step()\n",
    "        \n",
    "        if step % 1000 == 999:\n",
    "            print(f'epoch: {epoch + 1} -- step: {step + 1} -- loss: {loss: .4f}')\n",
    "            history_loss.append(loss)"
   ]
  },
  {
   "cell_type": "code",
   "execution_count": 14,
   "metadata": {},
   "outputs": [
    {
     "data": {
      "text/plain": [
       "[<matplotlib.lines.Line2D at 0x12b134a20>]"
      ]
     },
     "execution_count": 14,
     "metadata": {},
     "output_type": "execute_result"
    },
    {
     "data": {
      "image/png": "[encoded data removed]",
      "text/plain": [
       "<Figure size 432x288 with 1 Axes>"
      ]
     },
     "metadata": {
      "needs_background": "light"
     },
     "output_type": "display_data"
    }
   ],
   "source": [
    "plt.plot(history_loss)"
   ]
  },
  {
   "cell_type": "code",
   "execution_count": 38,
   "metadata": {},
   "outputs": [
    {
     "name": "stdout",
     "output_type": "stream",
     "text": [
      "total accuracy: 0.5527\n",
      "classes accuracy: airplane: 0.657, automobile: 0.684, bird: 0.386, cat: 0.399, deer: 0.618, dog: 0.564, frog: 0.437, horse: 0.559, ship: 0.679, truck: 0.544\n"
     ]
    }
   ],
   "source": [
    "correct = 0\n",
    "total = 0\n",
    "class_correct = np.zeros(10)\n",
    "class_total = np.zeros(10)\n",
    "\n",
    "with torch.no_grad():\n",
    "    for imgs, labels in testloader:\n",
    "        outputs = net(imgs)\n",
    "        predicts = torch.argmax(outputs, 1)\n",
    "        c = (predicts == labels).squeeze()\n",
    "        \n",
    "        total += labels.size()[0]\n",
    "        correct += c.sum().item()\n",
    "        \n",
    "        for label, item_correct in zip(labels.squeeze().numpy(), c.numpy()):\n",
    "            class_correct[label] += item_correct\n",
    "            class_total[label] += 1\n",
    "\n",
    "        \n",
    "accuracy = correct / total\n",
    "class_accuracy = class_correct / class_total\n",
    "\n",
    "print(f'total accuracy: {accuracy}')\n",
    "\n",
    "print(f\"classes accuracy: {', '.join([trainset.classes[i] + ': ' + str(class_accuracy[i]) for i in range(10)])}\")"
   ]
  },
  {
   "cell_type": "code",
   "execution_count": null,
   "metadata": {},
   "outputs": [],
   "source": []
  }
 ],
 "metadata": {
  "kernelspec": {
   "display_name": "Python 3",
   "language": "python",
   "name": "python3"
  },
  "language_info": {
   "codemirror_mode": {
    "name": "ipython",
    "version": 3
   },
   "file_extension": ".py",
   "mimetype": "text/x-python",
   "name": "python",
   "nbconvert_exporter": "python",
   "pygments_lexer": "ipython3",
   "version": "3.7.3"
  }
 },
 "nbformat": 4,
 "nbformat_minor": 2
}
