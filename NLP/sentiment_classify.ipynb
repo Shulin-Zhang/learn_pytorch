{
 "cells": [
  {
   "cell_type": "code",
   "execution_count": 33,
   "metadata": {},
   "outputs": [],
   "source": [
    "import torch\n",
    "import torch.nn as nn\n",
    "from torch.utils.data import Dataset, DataLoader\n",
    "import torchtext\n",
    "from torchtext.vocab import FastText\n",
    "import pkuseg\n",
    "import pandas as pd\n",
    "import numpy as np"
   ]
  },
  {
   "cell_type": "code",
   "execution_count": 2,
   "metadata": {},
   "outputs": [],
   "source": [
    "WORD_VEC_DIM = 300\n",
    "BATCH = 128"
   ]
  },
  {
   "cell_type": "code",
   "execution_count": 3,
   "metadata": {},
   "outputs": [],
   "source": [
    "totalpath = '../data/movie_remiew/train_data.csv'\n",
    "testpath = '../data/movie_remiew/test_data.csv'"
   ]
  },
  {
   "cell_type": "code",
   "execution_count": 4,
   "metadata": {},
   "outputs": [
    {
     "data": {
      "text/html": [
       "<div>\n",
       "<style scoped>\n",
       "    .dataframe tbody tr th:only-of-type {\n",
       "        vertical-align: middle;\n",
       "    }\n",
       "\n",
       "    .dataframe tbody tr th {\n",
       "        vertical-align: top;\n",
       "    }\n",
       "\n",
       "    .dataframe thead th {\n",
       "        text-align: right;\n",
       "    }\n",
       "</style>\n",
       "<table border=\"1\" class=\"dataframe\">\n",
       "  <thead>\n",
       "    <tr style=\"text-align: right;\">\n",
       "      <th></th>\n",
       "      <th>label</th>\n",
       "      <th>comment</th>\n",
       "    </tr>\n",
       "  </thead>\n",
       "  <tbody>\n",
       "    <tr>\n",
       "      <th>0</th>\n",
       "      <td>0</td>\n",
       "      <td>国王的工作就是读几句稿子啊</td>\n",
       "    </tr>\n",
       "    <tr>\n",
       "      <th>1</th>\n",
       "      <td>0</td>\n",
       "      <td>小朋友看嫌复杂大朋友看想快进的尴尬人物似曾相识唯一的泪点也是复制黏贴</td>\n",
       "    </tr>\n",
       "    <tr>\n",
       "      <th>2</th>\n",
       "      <td>0</td>\n",
       "      <td>一个非常丰富传奇的故事拍得这么浅薄大家是怎么给出五星的好奇</td>\n",
       "    </tr>\n",
       "  </tbody>\n",
       "</table>\n",
       "</div>"
      ],
      "text/plain": [
       "   label                             comment\n",
       "0      0                       国王的工作就是读几句稿子啊\n",
       "1      0  小朋友看嫌复杂大朋友看想快进的尴尬人物似曾相识唯一的泪点也是复制黏贴\n",
       "2      0       一个非常丰富传奇的故事拍得这么浅薄大家是怎么给出五星的好奇"
      ]
     },
     "execution_count": 4,
     "metadata": {},
     "output_type": "execute_result"
    }
   ],
   "source": [
    "totaldf = pd.read_csv(totalpath)\n",
    "totaldf.head(3)"
   ]
  },
  {
   "cell_type": "code",
   "execution_count": 5,
   "metadata": {},
   "outputs": [
    {
     "data": {
      "text/plain": [
       "1    24960\n",
       "0    19108\n",
       "Name: label, dtype: int64"
      ]
     },
     "execution_count": 5,
     "metadata": {},
     "output_type": "execute_result"
    }
   ],
   "source": [
    "totaldf.label.value_counts()"
   ]
  },
  {
   "cell_type": "code",
   "execution_count": 6,
   "metadata": {},
   "outputs": [],
   "source": [
    "totaldf = totaldf.sample(frac=1).reset_index(drop=True)"
   ]
  },
  {
   "cell_type": "code",
   "execution_count": 7,
   "metadata": {},
   "outputs": [
    {
     "data": {
      "text/html": [
       "<div>\n",
       "<style scoped>\n",
       "    .dataframe tbody tr th:only-of-type {\n",
       "        vertical-align: middle;\n",
       "    }\n",
       "\n",
       "    .dataframe tbody tr th {\n",
       "        vertical-align: top;\n",
       "    }\n",
       "\n",
       "    .dataframe thead th {\n",
       "        text-align: right;\n",
       "    }\n",
       "</style>\n",
       "<table border=\"1\" class=\"dataframe\">\n",
       "  <thead>\n",
       "    <tr style=\"text-align: right;\">\n",
       "      <th></th>\n",
       "      <th>label</th>\n",
       "      <th>comment</th>\n",
       "    </tr>\n",
       "  </thead>\n",
       "  <tbody>\n",
       "    <tr>\n",
       "      <th>0</th>\n",
       "      <td>1</td>\n",
       "      <td>好看治愈温情搞笑梦工厂的作品一直都很好看个人非常喜欢</td>\n",
       "    </tr>\n",
       "    <tr>\n",
       "      <th>1</th>\n",
       "      <td>1</td>\n",
       "      <td>确实和标签里写的一样有思考价值这部电影低成本的低到普通人也可以拍了但是里面蕴涵的深度比大片可牛多了</td>\n",
       "    </tr>\n",
       "    <tr>\n",
       "      <th>2</th>\n",
       "      <td>1</td>\n",
       "      <td>小时候老妈带着去电影院看的感动</td>\n",
       "    </tr>\n",
       "    <tr>\n",
       "      <th>3</th>\n",
       "      <td>1</td>\n",
       "      <td>修复版大漠孤烟英雄儿女刀光剑影江湖旧梦一直被模仿从未被超越</td>\n",
       "    </tr>\n",
       "    <tr>\n",
       "      <th>4</th>\n",
       "      <td>1</td>\n",
       "      <td>上座率非常高看完大家都没走一直到序幕结束才有序离开</td>\n",
       "    </tr>\n",
       "  </tbody>\n",
       "</table>\n",
       "</div>"
      ],
      "text/plain": [
       "   label                                            comment\n",
       "0      1                         好看治愈温情搞笑梦工厂的作品一直都很好看个人非常喜欢\n",
       "1      1  确实和标签里写的一样有思考价值这部电影低成本的低到普通人也可以拍了但是里面蕴涵的深度比大片可牛多了\n",
       "2      1                                    小时候老妈带着去电影院看的感动\n",
       "3      1                      修复版大漠孤烟英雄儿女刀光剑影江湖旧梦一直被模仿从未被超越\n",
       "4      1                          上座率非常高看完大家都没走一直到序幕结束才有序离开"
      ]
     },
     "execution_count": 7,
     "metadata": {},
     "output_type": "execute_result"
    }
   ],
   "source": [
    "totaldf.head()"
   ]
  },
  {
   "cell_type": "code",
   "execution_count": 8,
   "metadata": {},
   "outputs": [],
   "source": [
    "validdf = totaldf.iloc[:4000]\n",
    "traindf = totaldf.iloc[4000:]\n",
    "\n",
    "validdf.to_csv('../data/movie_remiew/validset.csv', index=False)\n",
    "traindf.to_csv('../data/movie_remiew/trainset.csv', index=False)"
   ]
  },
  {
   "cell_type": "code",
   "execution_count": 9,
   "metadata": {},
   "outputs": [
    {
     "data": {
      "text/html": [
       "<div>\n",
       "<style scoped>\n",
       "    .dataframe tbody tr th:only-of-type {\n",
       "        vertical-align: middle;\n",
       "    }\n",
       "\n",
       "    .dataframe tbody tr th {\n",
       "        vertical-align: top;\n",
       "    }\n",
       "\n",
       "    .dataframe thead th {\n",
       "        text-align: right;\n",
       "    }\n",
       "</style>\n",
       "<table border=\"1\" class=\"dataframe\">\n",
       "  <thead>\n",
       "    <tr style=\"text-align: right;\">\n",
       "      <th></th>\n",
       "      <th>comment</th>\n",
       "    </tr>\n",
       "  </thead>\n",
       "  <tbody>\n",
       "    <tr>\n",
       "      <th>0</th>\n",
       "      <td>画面很美但台词实在是太太太矫情不是十几岁少年的正常青涩哪怕故作的沧桑而像没文化的油腻中年对键...</td>\n",
       "    </tr>\n",
       "    <tr>\n",
       "      <th>1</th>\n",
       "      <td>这片子好看好看好看好看重要的问题问四遍竟然是前百失望致幻的嗨药是弱者逃避现实的选择你觉得现实...</td>\n",
       "    </tr>\n",
       "    <tr>\n",
       "      <th>2</th>\n",
       "      <td>老电影有老电影说不出来的美感即使是近三个小时的电影细节做的仍非精致七武士的故事人类百科</td>\n",
       "    </tr>\n",
       "  </tbody>\n",
       "</table>\n",
       "</div>"
      ],
      "text/plain": [
       "                                             comment\n",
       "0  画面很美但台词实在是太太太矫情不是十几岁少年的正常青涩哪怕故作的沧桑而像没文化的油腻中年对键...\n",
       "1  这片子好看好看好看好看重要的问题问四遍竟然是前百失望致幻的嗨药是弱者逃避现实的选择你觉得现实...\n",
       "2        老电影有老电影说不出来的美感即使是近三个小时的电影细节做的仍非精致七武士的故事人类百科"
      ]
     },
     "execution_count": 9,
     "metadata": {},
     "output_type": "execute_result"
    }
   ],
   "source": [
    "testdf = pd.read_csv(testpath)\n",
    "testdf.head(3)"
   ]
  },
  {
   "cell_type": "code",
   "execution_count": 10,
   "metadata": {},
   "outputs": [
    {
     "data": {
      "text/plain": [
       "9999"
      ]
     },
     "execution_count": 10,
     "metadata": {},
     "output_type": "execute_result"
    }
   ],
   "source": [
    "testdf.shape[0]"
   ]
  },
  {
   "cell_type": "code",
   "execution_count": 11,
   "metadata": {},
   "outputs": [],
   "source": [
    "with open('./stopwords.txt', 'r') as f:\n",
    "    lines = f.readlines()\n",
    "    stopwords = [word.strip() for word in lines]"
   ]
  },
  {
   "cell_type": "code",
   "execution_count": 55,
   "metadata": {},
   "outputs": [],
   "source": [
    "seg = pkuseg.pkuseg()"
   ]
  },
  {
   "cell_type": "code",
   "execution_count": 13,
   "metadata": {},
   "outputs": [],
   "source": [
    "TEXT = torchtext.data.Field(init_token='<sos>', eos_token='<eos>', tokenize=seg.cut, stop_words=stopwords)\n",
    "LABEL = torchtext.data.Field(sequential=False, use_vocab=False)"
   ]
  },
  {
   "cell_type": "code",
   "execution_count": 14,
   "metadata": {},
   "outputs": [],
   "source": [
    "train, valid = torchtext.data.TabularDataset.splits(path='../data/movie_remiew/', \n",
    "                                                    train='trainset.csv', \n",
    "                                                    validation='validset.csv',\n",
    "                                                    format='csv', \n",
    "                                                    skip_header=True,\n",
    "                                                    fields=[('label', LABEL), \n",
    "                                                            ('text', TEXT),])"
   ]
  },
  {
   "cell_type": "code",
   "execution_count": 15,
   "metadata": {},
   "outputs": [],
   "source": [
    "test = torchtext.data.TabularDataset(path='../data/movie_remiew/test_data.csv', \n",
    "                                    format='csv', \n",
    "                                    skip_header=True,\n",
    "                                    fields=[('text', TEXT),])"
   ]
  },
  {
   "cell_type": "code",
   "execution_count": 16,
   "metadata": {},
   "outputs": [],
   "source": [
    "vectors = FastText(language='zh')"
   ]
  },
  {
   "cell_type": "code",
   "execution_count": 17,
   "metadata": {},
   "outputs": [],
   "source": [
    "TEXT.build_vocab(train, vectors=vectors)"
   ]
  },
  {
   "cell_type": "code",
   "execution_count": 18,
   "metadata": {},
   "outputs": [
    {
     "data": {
      "text/plain": [
       "56927"
      ]
     },
     "execution_count": 18,
     "metadata": {},
     "output_type": "execute_result"
    }
   ],
   "source": [
    "len(TEXT.vocab)"
   ]
  },
  {
   "cell_type": "code",
   "execution_count": 19,
   "metadata": {},
   "outputs": [
    {
     "data": {
      "text/plain": [
       "torch.Size([56927, 300])"
      ]
     },
     "execution_count": 19,
     "metadata": {},
     "output_type": "execute_result"
    }
   ],
   "source": [
    "TEXT.vocab.vectors.size()"
   ]
  },
  {
   "cell_type": "code",
   "execution_count": 20,
   "metadata": {},
   "outputs": [],
   "source": [
    "class TextDataset(Dataset):\n",
    "    def __init__(self, tabularDataset, filed):\n",
    "        super().__init__()\n",
    "        self.tabular = tabularDataset\n",
    "        self.filed = filed\n",
    "        \n",
    "    def __getitem__(self, index):\n",
    "        text = self.tabular[index].text\n",
    "        label = getattr(self.tabular[index], 'label', None)\n",
    "        text_index = [self.filed.vocab.stoi[word] for word in text]\n",
    "        \n",
    "        return torch.tensor(text_index), torch.tensor(int(label)) if label is not None else None\n",
    "    \n",
    "    def __len__(self):\n",
    "        return len(self.tabular)"
   ]
  },
  {
   "cell_type": "code",
   "execution_count": 21,
   "metadata": {},
   "outputs": [],
   "source": [
    "# trainiter, validiter =  torchtext.data.BucketIterator.splits((train, valid), batch_sizes=(64, 64))"
   ]
  },
  {
   "cell_type": "code",
   "execution_count": 22,
   "metadata": {},
   "outputs": [],
   "source": [
    "trainset = TextDataset(train, TEXT)\n",
    "validset = TextDataset(valid, TEXT)\n",
    "testset = TextDataset(test, TEXT)"
   ]
  },
  {
   "cell_type": "code",
   "execution_count": 23,
   "metadata": {},
   "outputs": [],
   "source": [
    "def collate(batch):\n",
    "    texts = [item[0] for item in batch]\n",
    "    \n",
    "    if batch[0][1] is None:\n",
    "        labels = None\n",
    "    else:\n",
    "        labels = torch.tensor([item[1] for item in batch])\n",
    "    offsets = [0] + [len(text) for text in texts][:-1]\n",
    "    offsets = torch.tensor(offsets).cumsum(dim=0)\n",
    "    texts = torch.cat(texts)\n",
    "    \n",
    "    return texts, labels, offsets"
   ]
  },
  {
   "cell_type": "code",
   "execution_count": 25,
   "metadata": {},
   "outputs": [],
   "source": [
    "trainloader = DataLoader(trainset, batch_size=BATCH, shuffle=True, num_workers=2, collate_fn=collate)\n",
    "validloader = DataLoader(validset, batch_size=BATCH, shuffle=False, num_workers=2, collate_fn=collate)\n",
    "testloader = DataLoader(testset, batch_size=BATCH, shuffle=False, num_workers=2, collate_fn=collate)"
   ]
  },
  {
   "cell_type": "code",
   "execution_count": 26,
   "metadata": {},
   "outputs": [],
   "source": [
    "class Net(nn.Module):\n",
    "    def __init__(self, vectors):\n",
    "        super().__init__()\n",
    "        vocab_size = vectors.size(0)\n",
    "        vec_dim = vectors.size(1)\n",
    "        self.embedding = nn.EmbeddingBag(vocab_size, vec_dim)\n",
    "        self.fc = nn.Linear(vec_dim, 1)\n",
    "        self.init_weights(vectors)\n",
    "        \n",
    "    def init_weights(self, vectors):\n",
    "        self.embedding.weight.data.copy_(vectors)\n",
    "        self.fc.weight.data.uniform_(-0.5, 0.5)\n",
    "        self.fc.bias.data.zero_()\n",
    "        \n",
    "    def forward(self, x, offsets):\n",
    "        x = self.embedding(x, offsets)\n",
    "        x = self.fc(x)\n",
    "        return x"
   ]
  },
  {
   "cell_type": "code",
   "execution_count": 27,
   "metadata": {},
   "outputs": [],
   "source": [
    "net = Net(TEXT.vocab.vectors)\n",
    "net.embedding.requires_grad = False"
   ]
  },
  {
   "cell_type": "code",
   "execution_count": 28,
   "metadata": {},
   "outputs": [],
   "source": [
    "def train(net, trainloader, epochs, lr=0.01):\n",
    "    net.train()\n",
    "    loss_fn = nn.BCEWithLogitsLoss()\n",
    "    optimizer = torch.optim.Adam(net.parameters())\n",
    "    \n",
    "    for epoch in range(epochs):\n",
    "        for step, (texts, labels, offsets) in enumerate(trainloader):\n",
    "            labels = labels.unsqueeze(1).to(dtype=torch.float32)\n",
    "            \n",
    "            outputs = net(texts, offsets)\n",
    "            loss = loss_fn(outputs, labels)\n",
    "            optimizer.zero_grad()\n",
    "            loss.backward()\n",
    "            optimizer.step()\n",
    "            \n",
    "            if step % 100 == 99:\n",
    "                with torch.no_grad():\n",
    "                    accuracy = ((torch.sigmoid(outputs).numpy() > 0.5) == labels.numpy()).sum() / BATCH\n",
    "                \n",
    "                print(f\"loss: {loss.item():.4f}    \\taccuracy: {accuracy:.4f}\")"
   ]
  },
  {
   "cell_type": "code",
   "execution_count": 45,
   "metadata": {},
   "outputs": [
    {
     "name": "stdout",
     "output_type": "stream",
     "text": [
      "loss: 0.1916    \taccuracy: 0.9375\n",
      "loss: 0.1711    \taccuracy: 0.9609\n",
      "loss: 0.1781    \taccuracy: 0.9609\n",
      "loss: 0.1164    \taccuracy: 0.9766\n",
      "loss: 0.1894    \taccuracy: 0.9297\n",
      "loss: 0.1732    \taccuracy: 0.9609\n",
      "loss: 0.1725    \taccuracy: 0.9453\n",
      "loss: 0.1710    \taccuracy: 0.9141\n",
      "loss: 0.1516    \taccuracy: 0.9297\n",
      "loss: 0.1587    \taccuracy: 0.9453\n",
      "loss: 0.1493    \taccuracy: 0.9375\n",
      "loss: 0.1663    \taccuracy: 0.9375\n",
      "loss: 0.2602    \taccuracy: 0.9219\n",
      "loss: 0.1165    \taccuracy: 0.9531\n",
      "loss: 0.1112    \taccuracy: 0.9766\n"
     ]
    }
   ],
   "source": [
    "train(net, trainloader, 5, 0.001)"
   ]
  },
  {
   "cell_type": "code",
   "execution_count": 46,
   "metadata": {},
   "outputs": [],
   "source": [
    "def evaluate(net, loader):\n",
    "    net.eval()\n",
    "    \n",
    "    total = 0\n",
    "    corrects = 0\n",
    "    with torch.no_grad():\n",
    "        for texts, labels, offsets in loader:\n",
    "            outputs = net(texts, offsets)\n",
    "            corrects += ((torch.sigmoid(outputs).numpy() > 0.5) == labels.numpy()).sum()\n",
    "            total += outputs.size(0)\n",
    "            \n",
    "    return corrects / total"
   ]
  },
  {
   "cell_type": "code",
   "execution_count": 47,
   "metadata": {},
   "outputs": [
    {
     "data": {
      "text/plain": [
       "65.388"
      ]
     },
     "execution_count": 47,
     "metadata": {},
     "output_type": "execute_result"
    }
   ],
   "source": [
    "evaluate(net, validloader)"
   ]
  },
  {
   "cell_type": "code",
   "execution_count": 48,
   "metadata": {},
   "outputs": [],
   "source": [
    "def predict(net, loader):\n",
    "    net.eval()\n",
    "    \n",
    "    predictions = []\n",
    "    with torch.no_grad():\n",
    "        for texts, _, offsets in loader:\n",
    "            outputs = net(texts, offsets)\n",
    "            batch_pre = torch.sigmoid(outputs)\n",
    "            predictions.append((batch_pre.numpy() > 0.5).squeeze().astype(np.int))\n",
    "            \n",
    "    return np.concatenate(predictions)"
   ]
  },
  {
   "cell_type": "code",
   "execution_count": 49,
   "metadata": {},
   "outputs": [],
   "source": [
    "predictions = predict(net, testloader)"
   ]
  },
  {
   "cell_type": "code",
   "execution_count": 50,
   "metadata": {},
   "outputs": [],
   "source": [
    "df_submit = pd.DataFrame(data=predictions, columns=['label'])"
   ]
  },
  {
   "cell_type": "code",
   "execution_count": 51,
   "metadata": {},
   "outputs": [
    {
     "data": {
      "text/html": [
       "<div>\n",
       "<style scoped>\n",
       "    .dataframe tbody tr th:only-of-type {\n",
       "        vertical-align: middle;\n",
       "    }\n",
       "\n",
       "    .dataframe tbody tr th {\n",
       "        vertical-align: top;\n",
       "    }\n",
       "\n",
       "    .dataframe thead th {\n",
       "        text-align: right;\n",
       "    }\n",
       "</style>\n",
       "<table border=\"1\" class=\"dataframe\">\n",
       "  <thead>\n",
       "    <tr style=\"text-align: right;\">\n",
       "      <th></th>\n",
       "      <th>label</th>\n",
       "    </tr>\n",
       "  </thead>\n",
       "  <tbody>\n",
       "    <tr>\n",
       "      <th>0</th>\n",
       "      <td>0</td>\n",
       "    </tr>\n",
       "    <tr>\n",
       "      <th>1</th>\n",
       "      <td>1</td>\n",
       "    </tr>\n",
       "    <tr>\n",
       "      <th>2</th>\n",
       "      <td>0</td>\n",
       "    </tr>\n",
       "  </tbody>\n",
       "</table>\n",
       "</div>"
      ],
      "text/plain": [
       "   label\n",
       "0      0\n",
       "1      1\n",
       "2      0"
      ]
     },
     "execution_count": 51,
     "metadata": {},
     "output_type": "execute_result"
    }
   ],
   "source": [
    "df_submit.head(3)"
   ]
  },
  {
   "cell_type": "code",
   "execution_count": 52,
   "metadata": {},
   "outputs": [],
   "source": [
    "df_submit.to_csv('../data/movie_remiew/zhangshulin_2019_9_4.csv', index=False)"
   ]
  },
  {
   "cell_type": "code",
   "execution_count": null,
   "metadata": {},
   "outputs": [],
   "source": []
  }
 ],
 "metadata": {
  "kernelspec": {
   "display_name": "Python 3",
   "language": "python",
   "name": "python3"
  },
  "language_info": {
   "codemirror_mode": {
    "name": "ipython",
    "version": 3
   },
   "file_extension": ".py",
   "mimetype": "text/x-python",
   "name": "python",
   "nbconvert_exporter": "python",
   "pygments_lexer": "ipython3",
   "version": "3.7.3"
  }
 },
 "nbformat": 4,
 "nbformat_minor": 2
}
