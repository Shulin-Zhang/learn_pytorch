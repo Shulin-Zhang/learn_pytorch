{
 "cells": [
  {
   "cell_type": "code",
   "execution_count": 1,
   "metadata": {},
   "outputs": [],
   "source": [
    "import torch\n",
    "from torch import nn\n",
    "from torch.nn import functional as F\n",
    "from torch.utils.data import DataLoader\n",
    "import torchvision\n",
    "from torchvision import transforms\n",
    "from matplotlib import pylab as plt\n",
    "import numpy as np"
   ]
  },
  {
   "cell_type": "code",
   "execution_count": 2,
   "metadata": {},
   "outputs": [],
   "source": [
    "train_transform = transforms.Compose([\n",
    "    transforms.RandomRotation(15),\n",
    "    transforms.RandomResizedCrop(size=(28, 28), scale=(0.9, 1.1)),\n",
    "    transforms.ColorJitter(brightness=0.05, contrast=0.05, saturation=0.05, hue=0.05),\n",
    "    transforms.ToTensor()\n",
    "])\n",
    "\n",
    "test_transform = transforms.Compose([\n",
    "    transforms.ToTensor()\n",
    "])"
   ]
  },
  {
   "cell_type": "code",
   "execution_count": 3,
   "metadata": {},
   "outputs": [],
   "source": [
    "trainset = torchvision.datasets.mnist.MNIST('../data/', train=True, download=True, transform=train_transform)\n",
    "testset = torchvision.datasets.mnist.MNIST('../data/', train=False, download=True, transform=test_transform)"
   ]
  },
  {
   "cell_type": "code",
   "execution_count": 4,
   "metadata": {},
   "outputs": [
    {
     "data": {
      "text/plain": [
       "torch.Size([1, 28, 28])"
      ]
     },
     "execution_count": 4,
     "metadata": {},
     "output_type": "execute_result"
    }
   ],
   "source": [
    "trainset[0][0].size()"
   ]
  },
  {
   "cell_type": "code",
   "execution_count": 5,
   "metadata": {},
   "outputs": [
    {
     "data": {
      "text/plain": [
       "(60000, 10000, 10)"
      ]
     },
     "execution_count": 5,
     "metadata": {},
     "output_type": "execute_result"
    }
   ],
   "source": [
    "len(trainset), len(testset), len(trainset.classes)"
   ]
  },
  {
   "cell_type": "code",
   "execution_count": 6,
   "metadata": {},
   "outputs": [],
   "source": [
    "trainloader = DataLoader(trainset, batch_size=32, shuffle=True, num_workers=2)\n",
    "testloader = DataLoader(testset, batch_size=32, num_workers=2)"
   ]
  },
  {
   "cell_type": "code",
   "execution_count": 7,
   "metadata": {},
   "outputs": [],
   "source": [
    "trainiter = iter(trainloader)"
   ]
  },
  {
   "cell_type": "code",
   "execution_count": 8,
   "metadata": {},
   "outputs": [],
   "source": [
    "def show_img(img):\n",
    "    img = img.numpy()\n",
    "    img = np.transpose(img, [1, 2, 0])\n",
    "    plt.axis('off')\n",
    "    plt.imshow(img)"
   ]
  },
  {
   "cell_type": "code",
   "execution_count": 9,
   "metadata": {},
   "outputs": [
    {
     "data": {
      "text/plain": [
       "(torch.Size([32, 1, 28, 28]), tensor([8, 1, 0, 5, 7]))"
      ]
     },
     "execution_count": 9,
     "metadata": {},
     "output_type": "execute_result"
    }
   ],
   "source": [
    "example_imgs, example_labels = next(trainiter)\n",
    "example_grid = torchvision.utils.make_grid(example_imgs)\n",
    "example_imgs.size(), example_labels[:5]"
   ]
  },
  {
   "cell_type": "code",
   "execution_count": 10,
   "metadata": {},
   "outputs": [
    {
     "data": {
      "image/png": "[encoded data removed]",
      "text/plain": [
       "<Figure size 432x288 with 1 Axes>"
      ]
     },
     "metadata": {
      "needs_background": "light"
     },
     "output_type": "display_data"
    }
   ],
   "source": [
    "show_img(example_grid)"
   ]
  },
  {
   "cell_type": "code",
   "execution_count": 11,
   "metadata": {},
   "outputs": [],
   "source": [
    "class Net(nn.Module):\n",
    "    def __init__(self):\n",
    "        super().__init__()\n",
    "        self.conv1 = nn.Conv2d(1, 16, 3, padding=1)\n",
    "        self.bn1 = nn.BatchNorm2d(16)\n",
    "        self.conv2 = nn.Conv2d(16, 32, 3, padding=1)\n",
    "        self.bn2 = nn.BatchNorm2d(32)\n",
    "        self.conv3 = nn.Conv2d(32, 64, 3, padding=1)\n",
    "        self.bn3 = nn.BatchNorm2d(64)\n",
    "        self.flatten = nn.Flatten()\n",
    "        self.fc4 = nn.Linear(64 * 7 * 7, 10)\n",
    "        self._init_weights()\n",
    "        \n",
    "    def _init_weights(self):\n",
    "        for layer in self.modules():\n",
    "            if isinstance(layer, (nn.Conv2d, nn.Linear)):\n",
    "                nn.init.kaiming_normal_(layer.weight)\n",
    "        \n",
    "    def forward(self, x):\n",
    "        x = self.conv1(x)\n",
    "        x = F.relu(x)\n",
    "        x = self.bn1(x)\n",
    "        x = F.max_pool2d(x, 2, 2)\n",
    "        x = self.conv2(x)\n",
    "        x = F.relu(x)\n",
    "        x = self.bn2(x)\n",
    "        x = F.max_pool2d(x, 2, 2)\n",
    "        x = self.conv3(x)\n",
    "        x = F.relu(x)\n",
    "        x = self.bn3(x)\n",
    "        x = self.flatten(x)\n",
    "        x = self.fc4(x)\n",
    "        return x"
   ]
  },
  {
   "cell_type": "code",
   "execution_count": 12,
   "metadata": {},
   "outputs": [],
   "source": [
    "net = Net()"
   ]
  },
  {
   "cell_type": "code",
   "execution_count": 13,
   "metadata": {},
   "outputs": [],
   "source": [
    "def train(net, trainloader, epochs=3, lr=0.001, history_step=200):\n",
    "    device = torch.device('cuda' if torch.cuda.is_available() else 'cpu')\n",
    "    if torch.cuda.device_count() > 1:\n",
    "        net = nn.DataParallel(net)\n",
    "    net = net.to(device)\n",
    "    loss_fn = nn.CrossEntropyLoss()\n",
    "    optimizer = torch.optim.Adam(net.parameters(), lr=lr)\n",
    "    \n",
    "    history_loss = []\n",
    "    \n",
    "    for epoch in range(epochs):\n",
    "        for step, data in enumerate(trainloader):\n",
    "            imgs, labels = data\n",
    "            imgs = imgs.to(device)\n",
    "            lables = labels.to(device)\n",
    "            outputs = net(imgs)\n",
    "            loss = loss_fn(outputs, labels)\n",
    "            optimizer.zero_grad()\n",
    "            loss.backward()\n",
    "            optimizer.step()\n",
    "            \n",
    "            if step % history_step == history_step - 1:\n",
    "                print(f\"epoch: {epoch + 1} -- step: {step + 1} -- loss: {loss:.4f}\")\n",
    "                history_loss.append(loss)"
   ]
  },
  {
   "cell_type": "code",
   "execution_count": 14,
   "metadata": {},
   "outputs": [
    {
     "name": "stdout",
     "output_type": "stream",
     "text": [
      "epoch: 1 -- step: 200 -- loss: 0.3918\n",
      "epoch: 1 -- step: 400 -- loss: 0.0268\n",
      "epoch: 1 -- step: 600 -- loss: 0.1308\n",
      "epoch: 1 -- step: 800 -- loss: 0.4800\n",
      "epoch: 1 -- step: 1000 -- loss: 0.0574\n",
      "epoch: 1 -- step: 1200 -- loss: 0.5029\n",
      "epoch: 1 -- step: 1400 -- loss: 0.0252\n",
      "epoch: 1 -- step: 1600 -- loss: 0.0446\n",
      "epoch: 1 -- step: 1800 -- loss: 0.2819\n",
      "epoch: 2 -- step: 200 -- loss: 0.0149\n",
      "epoch: 2 -- step: 400 -- loss: 0.0332\n",
      "epoch: 2 -- step: 600 -- loss: 0.0014\n",
      "epoch: 2 -- step: 800 -- loss: 0.0862\n",
      "epoch: 2 -- step: 1000 -- loss: 0.0844\n",
      "epoch: 2 -- step: 1200 -- loss: 0.0046\n",
      "epoch: 2 -- step: 1400 -- loss: 0.2340\n",
      "epoch: 2 -- step: 1600 -- loss: 0.0013\n",
      "epoch: 2 -- step: 1800 -- loss: 0.0249\n",
      "epoch: 3 -- step: 200 -- loss: 0.3044\n",
      "epoch: 3 -- step: 400 -- loss: 0.0440\n",
      "epoch: 3 -- step: 600 -- loss: 0.0020\n",
      "epoch: 3 -- step: 800 -- loss: 0.0102\n",
      "epoch: 3 -- step: 1000 -- loss: 0.0123\n",
      "epoch: 3 -- step: 1200 -- loss: 0.0876\n",
      "epoch: 3 -- step: 1400 -- loss: 0.0012\n",
      "epoch: 3 -- step: 1600 -- loss: 0.0678\n",
      "epoch: 3 -- step: 1800 -- loss: 0.0013\n"
     ]
    }
   ],
   "source": [
    "train(net, trainloader)"
   ]
  },
  {
   "cell_type": "code",
   "execution_count": 15,
   "metadata": {},
   "outputs": [],
   "source": [
    "def evaluate(net, dataloader):\n",
    "    corrects = 0\n",
    "    total = 0\n",
    "    \n",
    "    with torch.no_grad():\n",
    "        for imgs, labels in dataloader:\n",
    "            outputs = net(imgs)\n",
    "            predictions = outputs.argmax(dim=1)\n",
    "            corrects += (predictions == labels).sum()\n",
    "            total += outputs.size()[0]\n",
    "    \n",
    "    return corrects.numpy() / total"
   ]
  },
  {
   "cell_type": "code",
   "execution_count": 16,
   "metadata": {},
   "outputs": [
    {
     "data": {
      "text/plain": [
       "0.9829333333333333"
      ]
     },
     "execution_count": 16,
     "metadata": {},
     "output_type": "execute_result"
    }
   ],
   "source": [
    "evaluate(net, trainloader)"
   ]
  },
  {
   "cell_type": "code",
   "execution_count": 17,
   "metadata": {},
   "outputs": [
    {
     "data": {
      "text/plain": [
       "0.9904"
      ]
     },
     "execution_count": 17,
     "metadata": {},
     "output_type": "execute_result"
    }
   ],
   "source": [
    "evaluate(net, testloader)"
   ]
  },
  {
   "cell_type": "code",
   "execution_count": null,
   "metadata": {},
   "outputs": [],
   "source": []
  }
 ],
 "metadata": {
  "kernelspec": {
   "display_name": "Python 3",
   "language": "python",
   "name": "python3"
  },
  "language_info": {
   "codemirror_mode": {
    "name": "ipython",
    "version": 3
   },
   "file_extension": ".py",
   "mimetype": "text/x-python",
   "name": "python",
   "nbconvert_exporter": "python",
   "pygments_lexer": "ipython3",
   "version": "3.7.3"
  }
 },
 "nbformat": 4,
 "nbformat_minor": 2
}
